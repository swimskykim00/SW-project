{
  "nbformat": 4,
  "nbformat_minor": 0,
  "metadata": {
    "colab": {
      "provenance": [],
      "gpuType": "T4",
      "mount_file_id": "1Q440bZK4gjwxikDrHc1XBiEhiAwH6wPG",
      "authorship_tag": "ABX9TyNttHdpvLQ1oLFqtshM94Zi",
      "include_colab_link": true
    },
    "kernelspec": {
      "name": "python3",
      "display_name": "Python 3"
    },
    "language_info": {
      "name": "python"
    },
    "accelerator": "GPU"
  },
  "cells": [
    {
      "cell_type": "markdown",
      "metadata": {
        "id": "view-in-github",
        "colab_type": "text"
      },
      "source": [
        "<a href=\"https://colab.research.google.com/github/swimskykim00/SW-project/blob/main/%EA%B0%9C%EC%9D%B8%ED%94%84%EB%A1%9C%EC%A0%9D%ED%8A%B82(Mvtec).ipynb\" target=\"_parent\"><img src=\"https://colab.research.google.com/assets/colab-badge.svg\" alt=\"Open In Colab\"/></a>"
      ]
    },
    {
      "cell_type": "code",
      "execution_count": 3,
      "metadata": {
        "colab": {
          "base_uri": "https://localhost:8080/"
        },
        "id": "4ICb2SgxgfHy",
        "outputId": "2b9a5ccc-b383-495d-846a-eca6e43fbd6a"
      },
      "outputs": [
        {
          "output_type": "stream",
          "name": "stdout",
          "text": [
            "Drive already mounted at /content/drive; to attempt to forcibly remount, call drive.mount(\"/content/drive\", force_remount=True).\n"
          ]
        }
      ],
      "source": [
        "from google.colab import drive\n",
        "drive.mount('/content/drive')"
      ]
    },
    {
      "cell_type": "markdown",
      "source": [
        "!xz -d /content/drive/MyDrive/SW사업/carpet.tar.xz"
      ],
      "metadata": {
        "id": "vebyxWxUitHH"
      }
    },
    {
      "cell_type": "markdown",
      "source": [],
      "metadata": {
        "id": "4IR4JKCEiquM"
      }
    },
    {
      "cell_type": "code",
      "source": [
        "!tar xvf /content/drive/MyDrive/SW사업/carpet.tar"
      ],
      "metadata": {
        "colab": {
          "base_uri": "https://localhost:8080/"
        },
        "id": "d6lTpllFiSCa",
        "outputId": "ecfa1c88-81ec-4f29-a6c2-ba1e7df956f7"
      },
      "execution_count": 4,
      "outputs": [
        {
          "output_type": "stream",
          "name": "stdout",
          "text": [
            "carpet/\n",
            "carpet/ground_truth/\n",
            "carpet/ground_truth/color/\n",
            "carpet/ground_truth/color/016_mask.png\n",
            "carpet/ground_truth/color/017_mask.png\n",
            "carpet/ground_truth/color/018_mask.png\n",
            "carpet/ground_truth/color/000_mask.png\n",
            "carpet/ground_truth/color/001_mask.png\n",
            "carpet/ground_truth/color/002_mask.png\n",
            "carpet/ground_truth/color/003_mask.png\n",
            "carpet/ground_truth/color/004_mask.png\n",
            "carpet/ground_truth/color/005_mask.png\n",
            "carpet/ground_truth/color/006_mask.png\n",
            "carpet/ground_truth/color/007_mask.png\n",
            "carpet/ground_truth/color/008_mask.png\n",
            "carpet/ground_truth/color/009_mask.png\n",
            "carpet/ground_truth/color/010_mask.png\n",
            "carpet/ground_truth/color/011_mask.png\n",
            "carpet/ground_truth/color/012_mask.png\n",
            "carpet/ground_truth/color/013_mask.png\n",
            "carpet/ground_truth/color/014_mask.png\n",
            "carpet/ground_truth/color/015_mask.png\n",
            "carpet/ground_truth/cut/\n",
            "carpet/ground_truth/cut/000_mask.png\n",
            "carpet/ground_truth/cut/001_mask.png\n",
            "carpet/ground_truth/cut/002_mask.png\n",
            "carpet/ground_truth/cut/003_mask.png\n",
            "carpet/ground_truth/cut/004_mask.png\n",
            "carpet/ground_truth/cut/005_mask.png\n",
            "carpet/ground_truth/cut/006_mask.png\n",
            "carpet/ground_truth/cut/007_mask.png\n",
            "carpet/ground_truth/cut/008_mask.png\n",
            "carpet/ground_truth/cut/009_mask.png\n",
            "carpet/ground_truth/cut/010_mask.png\n",
            "carpet/ground_truth/cut/011_mask.png\n",
            "carpet/ground_truth/cut/012_mask.png\n",
            "carpet/ground_truth/cut/013_mask.png\n",
            "carpet/ground_truth/cut/014_mask.png\n",
            "carpet/ground_truth/cut/015_mask.png\n",
            "carpet/ground_truth/cut/016_mask.png\n",
            "carpet/ground_truth/hole/\n",
            "carpet/ground_truth/hole/000_mask.png\n",
            "carpet/ground_truth/hole/001_mask.png\n",
            "carpet/ground_truth/hole/002_mask.png\n",
            "carpet/ground_truth/hole/003_mask.png\n",
            "carpet/ground_truth/hole/004_mask.png\n",
            "carpet/ground_truth/hole/005_mask.png\n",
            "carpet/ground_truth/hole/006_mask.png\n",
            "carpet/ground_truth/hole/007_mask.png\n",
            "carpet/ground_truth/hole/008_mask.png\n",
            "carpet/ground_truth/hole/009_mask.png\n",
            "carpet/ground_truth/hole/010_mask.png\n",
            "carpet/ground_truth/hole/011_mask.png\n",
            "carpet/ground_truth/hole/012_mask.png\n",
            "carpet/ground_truth/hole/013_mask.png\n",
            "carpet/ground_truth/hole/014_mask.png\n",
            "carpet/ground_truth/hole/015_mask.png\n",
            "carpet/ground_truth/hole/016_mask.png\n",
            "carpet/ground_truth/metal_contamination/\n",
            "carpet/ground_truth/metal_contamination/000_mask.png\n",
            "carpet/ground_truth/metal_contamination/001_mask.png\n",
            "carpet/ground_truth/metal_contamination/002_mask.png\n",
            "carpet/ground_truth/metal_contamination/003_mask.png\n",
            "carpet/ground_truth/metal_contamination/004_mask.png\n",
            "carpet/ground_truth/metal_contamination/005_mask.png\n",
            "carpet/ground_truth/metal_contamination/006_mask.png\n",
            "carpet/ground_truth/metal_contamination/007_mask.png\n",
            "carpet/ground_truth/metal_contamination/008_mask.png\n",
            "carpet/ground_truth/metal_contamination/009_mask.png\n",
            "carpet/ground_truth/metal_contamination/010_mask.png\n",
            "carpet/ground_truth/metal_contamination/011_mask.png\n",
            "carpet/ground_truth/metal_contamination/012_mask.png\n",
            "carpet/ground_truth/metal_contamination/013_mask.png\n",
            "carpet/ground_truth/metal_contamination/014_mask.png\n",
            "carpet/ground_truth/metal_contamination/015_mask.png\n",
            "carpet/ground_truth/metal_contamination/016_mask.png\n",
            "carpet/ground_truth/thread/\n",
            "carpet/ground_truth/thread/018_mask.png\n",
            "carpet/ground_truth/thread/000_mask.png\n",
            "carpet/ground_truth/thread/001_mask.png\n",
            "carpet/ground_truth/thread/002_mask.png\n",
            "carpet/ground_truth/thread/003_mask.png\n",
            "carpet/ground_truth/thread/004_mask.png\n",
            "carpet/ground_truth/thread/005_mask.png\n",
            "carpet/ground_truth/thread/006_mask.png\n",
            "carpet/ground_truth/thread/007_mask.png\n",
            "carpet/ground_truth/thread/008_mask.png\n",
            "carpet/ground_truth/thread/009_mask.png\n",
            "carpet/ground_truth/thread/010_mask.png\n",
            "carpet/ground_truth/thread/011_mask.png\n",
            "carpet/ground_truth/thread/012_mask.png\n",
            "carpet/ground_truth/thread/013_mask.png\n",
            "carpet/ground_truth/thread/014_mask.png\n",
            "carpet/ground_truth/thread/015_mask.png\n",
            "carpet/ground_truth/thread/016_mask.png\n",
            "carpet/ground_truth/thread/017_mask.png\n",
            "carpet/test/\n",
            "carpet/test/color/\n",
            "carpet/test/color/000.png\n",
            "carpet/test/color/001.png\n",
            "carpet/test/color/002.png\n",
            "carpet/test/color/003.png\n",
            "carpet/test/color/004.png\n",
            "carpet/test/color/005.png\n",
            "carpet/test/color/006.png\n",
            "carpet/test/color/007.png\n",
            "carpet/test/color/008.png\n",
            "carpet/test/color/009.png\n",
            "carpet/test/color/010.png\n",
            "carpet/test/color/011.png\n",
            "carpet/test/color/012.png\n",
            "carpet/test/color/013.png\n",
            "carpet/test/color/014.png\n",
            "carpet/test/color/015.png\n",
            "carpet/test/color/016.png\n",
            "carpet/test/color/017.png\n",
            "carpet/test/color/018.png\n",
            "carpet/test/cut/\n",
            "carpet/test/cut/000.png\n",
            "carpet/test/cut/001.png\n",
            "carpet/test/cut/002.png\n",
            "carpet/test/cut/003.png\n",
            "carpet/test/cut/004.png\n",
            "carpet/test/cut/005.png\n",
            "carpet/test/cut/006.png\n",
            "carpet/test/cut/007.png\n",
            "carpet/test/cut/008.png\n",
            "carpet/test/cut/009.png\n",
            "carpet/test/cut/010.png\n",
            "carpet/test/cut/011.png\n",
            "carpet/test/cut/012.png\n",
            "carpet/test/cut/013.png\n",
            "carpet/test/cut/014.png\n",
            "carpet/test/cut/015.png\n",
            "carpet/test/cut/016.png\n",
            "carpet/test/good/\n",
            "carpet/test/good/025.png\n",
            "carpet/test/good/026.png\n",
            "carpet/test/good/027.png\n",
            "carpet/test/good/000.png\n",
            "carpet/test/good/001.png\n",
            "carpet/test/good/002.png\n",
            "carpet/test/good/003.png\n",
            "carpet/test/good/004.png\n",
            "carpet/test/good/005.png\n",
            "carpet/test/good/006.png\n",
            "carpet/test/good/007.png\n",
            "carpet/test/good/008.png\n",
            "carpet/test/good/009.png\n",
            "carpet/test/good/010.png\n",
            "carpet/test/good/011.png\n",
            "carpet/test/good/012.png\n",
            "carpet/test/good/013.png\n",
            "carpet/test/good/014.png\n",
            "carpet/test/good/015.png\n",
            "carpet/test/good/016.png\n",
            "carpet/test/good/017.png\n",
            "carpet/test/good/018.png\n",
            "carpet/test/good/019.png\n",
            "carpet/test/good/020.png\n",
            "carpet/test/good/021.png\n",
            "carpet/test/good/022.png\n",
            "carpet/test/good/023.png\n",
            "carpet/test/good/024.png\n",
            "carpet/test/hole/\n",
            "carpet/test/hole/000.png\n",
            "carpet/test/hole/001.png\n",
            "carpet/test/hole/002.png\n",
            "carpet/test/hole/003.png\n",
            "carpet/test/hole/004.png\n",
            "carpet/test/hole/005.png\n",
            "carpet/test/hole/006.png\n",
            "carpet/test/hole/007.png\n",
            "carpet/test/hole/008.png\n",
            "carpet/test/hole/009.png\n",
            "carpet/test/hole/010.png\n",
            "carpet/test/hole/011.png\n",
            "carpet/test/hole/012.png\n",
            "carpet/test/hole/013.png\n",
            "carpet/test/hole/014.png\n",
            "carpet/test/hole/015.png\n",
            "carpet/test/hole/016.png\n",
            "carpet/test/metal_contamination/\n",
            "carpet/test/metal_contamination/000.png\n",
            "carpet/test/metal_contamination/001.png\n",
            "carpet/test/metal_contamination/002.png\n",
            "carpet/test/metal_contamination/003.png\n",
            "carpet/test/metal_contamination/004.png\n",
            "carpet/test/metal_contamination/005.png\n",
            "carpet/test/metal_contamination/006.png\n",
            "carpet/test/metal_contamination/007.png\n",
            "carpet/test/metal_contamination/008.png\n",
            "carpet/test/metal_contamination/009.png\n",
            "carpet/test/metal_contamination/010.png\n",
            "carpet/test/metal_contamination/011.png\n",
            "carpet/test/metal_contamination/012.png\n",
            "carpet/test/metal_contamination/013.png\n",
            "carpet/test/metal_contamination/014.png\n",
            "carpet/test/metal_contamination/015.png\n",
            "carpet/test/metal_contamination/016.png\n",
            "carpet/test/thread/\n",
            "carpet/test/thread/000.png\n",
            "carpet/test/thread/001.png\n",
            "carpet/test/thread/002.png\n",
            "carpet/test/thread/003.png\n",
            "carpet/test/thread/004.png\n",
            "carpet/test/thread/005.png\n",
            "carpet/test/thread/006.png\n",
            "carpet/test/thread/007.png\n",
            "carpet/test/thread/008.png\n",
            "carpet/test/thread/009.png\n",
            "carpet/test/thread/010.png\n",
            "carpet/test/thread/011.png\n",
            "carpet/test/thread/012.png\n",
            "carpet/test/thread/013.png\n",
            "carpet/test/thread/014.png\n",
            "carpet/test/thread/015.png\n",
            "carpet/test/thread/016.png\n",
            "carpet/test/thread/017.png\n",
            "carpet/test/thread/018.png\n",
            "carpet/train/\n",
            "carpet/train/good/\n",
            "carpet/train/good/000.png\n",
            "carpet/train/good/001.png\n",
            "carpet/train/good/002.png\n",
            "carpet/train/good/003.png\n",
            "carpet/train/good/004.png\n",
            "carpet/train/good/005.png\n",
            "carpet/train/good/006.png\n",
            "carpet/train/good/007.png\n",
            "carpet/train/good/008.png\n",
            "carpet/train/good/009.png\n",
            "carpet/train/good/010.png\n",
            "carpet/train/good/011.png\n",
            "carpet/train/good/012.png\n",
            "carpet/train/good/013.png\n",
            "carpet/train/good/014.png\n",
            "carpet/train/good/015.png\n",
            "carpet/train/good/016.png\n",
            "carpet/train/good/017.png\n",
            "carpet/train/good/018.png\n",
            "carpet/train/good/019.png\n",
            "carpet/train/good/020.png\n",
            "carpet/train/good/021.png\n",
            "carpet/train/good/022.png\n",
            "carpet/train/good/023.png\n",
            "carpet/train/good/024.png\n",
            "carpet/train/good/025.png\n",
            "carpet/train/good/026.png\n",
            "carpet/train/good/027.png\n",
            "carpet/train/good/028.png\n",
            "carpet/train/good/029.png\n",
            "carpet/train/good/030.png\n",
            "carpet/train/good/130.png\n",
            "carpet/train/good/131.png\n",
            "carpet/train/good/132.png\n",
            "carpet/train/good/133.png\n",
            "carpet/train/good/134.png\n",
            "carpet/train/good/135.png\n",
            "carpet/train/good/136.png\n",
            "carpet/train/good/137.png\n",
            "carpet/train/good/138.png\n",
            "carpet/train/good/139.png\n",
            "carpet/train/good/140.png\n",
            "carpet/train/good/141.png\n",
            "carpet/train/good/142.png\n",
            "carpet/train/good/143.png\n",
            "carpet/train/good/144.png\n",
            "carpet/train/good/145.png\n",
            "carpet/train/good/146.png\n",
            "carpet/train/good/147.png\n",
            "carpet/train/good/148.png\n",
            "carpet/train/good/149.png\n",
            "carpet/train/good/150.png\n",
            "carpet/train/good/151.png\n",
            "carpet/train/good/152.png\n",
            "carpet/train/good/153.png\n",
            "carpet/train/good/154.png\n",
            "carpet/train/good/155.png\n",
            "carpet/train/good/156.png\n",
            "carpet/train/good/157.png\n",
            "carpet/train/good/158.png\n",
            "carpet/train/good/159.png\n",
            "carpet/train/good/160.png\n",
            "carpet/train/good/161.png\n",
            "carpet/train/good/162.png\n",
            "carpet/train/good/163.png\n",
            "carpet/train/good/164.png\n",
            "carpet/train/good/165.png\n",
            "carpet/train/good/166.png\n",
            "carpet/train/good/167.png\n",
            "carpet/train/good/168.png\n",
            "carpet/train/good/169.png\n",
            "carpet/train/good/170.png\n",
            "carpet/train/good/171.png\n",
            "carpet/train/good/172.png\n",
            "carpet/train/good/173.png\n",
            "carpet/train/good/174.png\n",
            "carpet/train/good/175.png\n",
            "carpet/train/good/176.png\n",
            "carpet/train/good/177.png\n",
            "carpet/train/good/178.png\n",
            "carpet/train/good/179.png\n",
            "carpet/train/good/180.png\n",
            "carpet/train/good/181.png\n",
            "carpet/train/good/182.png\n",
            "carpet/train/good/183.png\n",
            "carpet/train/good/184.png\n",
            "carpet/train/good/185.png\n",
            "carpet/train/good/186.png\n",
            "carpet/train/good/187.png\n",
            "carpet/train/good/188.png\n",
            "carpet/train/good/189.png\n",
            "carpet/train/good/190.png\n",
            "carpet/train/good/191.png\n",
            "carpet/train/good/192.png\n",
            "carpet/train/good/193.png\n",
            "carpet/train/good/194.png\n",
            "carpet/train/good/195.png\n",
            "carpet/train/good/196.png\n",
            "carpet/train/good/197.png\n",
            "carpet/train/good/198.png\n",
            "carpet/train/good/199.png\n",
            "carpet/train/good/200.png\n",
            "carpet/train/good/201.png\n",
            "carpet/train/good/202.png\n",
            "carpet/train/good/203.png\n",
            "carpet/train/good/204.png\n",
            "carpet/train/good/205.png\n",
            "carpet/train/good/206.png\n",
            "carpet/train/good/207.png\n",
            "carpet/train/good/208.png\n",
            "carpet/train/good/209.png\n",
            "carpet/train/good/210.png\n",
            "carpet/train/good/211.png\n",
            "carpet/train/good/212.png\n",
            "carpet/train/good/213.png\n",
            "carpet/train/good/214.png\n",
            "carpet/train/good/215.png\n",
            "carpet/train/good/216.png\n",
            "carpet/train/good/217.png\n",
            "carpet/train/good/218.png\n",
            "carpet/train/good/219.png\n",
            "carpet/train/good/220.png\n",
            "carpet/train/good/221.png\n",
            "carpet/train/good/222.png\n",
            "carpet/train/good/223.png\n",
            "carpet/train/good/224.png\n",
            "carpet/train/good/225.png\n",
            "carpet/train/good/226.png\n",
            "carpet/train/good/227.png\n",
            "carpet/train/good/228.png\n",
            "carpet/train/good/229.png\n",
            "carpet/train/good/230.png\n",
            "carpet/train/good/231.png\n",
            "carpet/train/good/232.png\n",
            "carpet/train/good/233.png\n",
            "carpet/train/good/234.png\n",
            "carpet/train/good/235.png\n",
            "carpet/train/good/236.png\n",
            "carpet/train/good/237.png\n",
            "carpet/train/good/238.png\n",
            "carpet/train/good/239.png\n",
            "carpet/train/good/240.png\n",
            "carpet/train/good/241.png\n",
            "carpet/train/good/242.png\n",
            "carpet/train/good/243.png\n",
            "carpet/train/good/244.png\n",
            "carpet/train/good/245.png\n",
            "carpet/train/good/246.png\n",
            "carpet/train/good/247.png\n",
            "carpet/train/good/248.png\n",
            "carpet/train/good/249.png\n",
            "carpet/train/good/250.png\n",
            "carpet/train/good/251.png\n",
            "carpet/train/good/252.png\n",
            "carpet/train/good/253.png\n",
            "carpet/train/good/254.png\n",
            "carpet/train/good/255.png\n",
            "carpet/train/good/256.png\n",
            "carpet/train/good/257.png\n",
            "carpet/train/good/258.png\n",
            "carpet/train/good/259.png\n",
            "carpet/train/good/260.png\n",
            "carpet/train/good/261.png\n",
            "carpet/train/good/262.png\n",
            "carpet/train/good/263.png\n",
            "carpet/train/good/264.png\n",
            "carpet/train/good/266.png\n",
            "carpet/train/good/267.png\n",
            "carpet/train/good/268.png\n",
            "carpet/train/good/269.png\n",
            "carpet/train/good/270.png\n",
            "carpet/train/good/271.png\n",
            "carpet/train/good/272.png\n",
            "carpet/train/good/273.png\n",
            "carpet/train/good/274.png\n",
            "carpet/train/good/275.png\n",
            "carpet/train/good/276.png\n",
            "carpet/train/good/277.png\n",
            "carpet/train/good/278.png\n",
            "carpet/train/good/279.png\n",
            "carpet/train/good/032.png\n",
            "carpet/train/good/033.png\n",
            "carpet/train/good/034.png\n",
            "carpet/train/good/035.png\n",
            "carpet/train/good/036.png\n",
            "carpet/train/good/037.png\n",
            "carpet/train/good/038.png\n",
            "carpet/train/good/039.png\n",
            "carpet/train/good/040.png\n",
            "carpet/train/good/041.png\n",
            "carpet/train/good/042.png\n",
            "carpet/train/good/043.png\n",
            "carpet/train/good/044.png\n",
            "carpet/train/good/045.png\n",
            "carpet/train/good/046.png\n",
            "carpet/train/good/047.png\n",
            "carpet/train/good/048.png\n",
            "carpet/train/good/049.png\n",
            "carpet/train/good/050.png\n",
            "carpet/train/good/051.png\n",
            "carpet/train/good/052.png\n",
            "carpet/train/good/053.png\n",
            "carpet/train/good/054.png\n",
            "carpet/train/good/055.png\n",
            "carpet/train/good/056.png\n",
            "carpet/train/good/057.png\n",
            "carpet/train/good/058.png\n",
            "carpet/train/good/059.png\n",
            "carpet/train/good/060.png\n",
            "carpet/train/good/061.png\n",
            "carpet/train/good/062.png\n",
            "carpet/train/good/063.png\n",
            "carpet/train/good/064.png\n",
            "carpet/train/good/065.png\n",
            "carpet/train/good/066.png\n",
            "carpet/train/good/067.png\n",
            "carpet/train/good/068.png\n",
            "carpet/train/good/069.png\n",
            "carpet/train/good/070.png\n",
            "carpet/train/good/071.png\n",
            "carpet/train/good/072.png\n",
            "carpet/train/good/073.png\n",
            "carpet/train/good/074.png\n",
            "carpet/train/good/075.png\n",
            "carpet/train/good/076.png\n",
            "carpet/train/good/077.png\n",
            "carpet/train/good/078.png\n",
            "carpet/train/good/079.png\n",
            "carpet/train/good/080.png\n",
            "carpet/train/good/081.png\n",
            "carpet/train/good/082.png\n",
            "carpet/train/good/083.png\n",
            "carpet/train/good/084.png\n",
            "carpet/train/good/085.png\n",
            "carpet/train/good/086.png\n",
            "carpet/train/good/087.png\n",
            "carpet/train/good/088.png\n",
            "carpet/train/good/089.png\n",
            "carpet/train/good/090.png\n",
            "carpet/train/good/091.png\n",
            "carpet/train/good/092.png\n",
            "carpet/train/good/093.png\n",
            "carpet/train/good/094.png\n",
            "carpet/train/good/095.png\n",
            "carpet/train/good/096.png\n",
            "carpet/train/good/097.png\n",
            "carpet/train/good/098.png\n",
            "carpet/train/good/099.png\n",
            "carpet/train/good/100.png\n",
            "carpet/train/good/101.png\n",
            "carpet/train/good/102.png\n",
            "carpet/train/good/103.png\n",
            "carpet/train/good/104.png\n",
            "carpet/train/good/105.png\n",
            "carpet/train/good/106.png\n",
            "carpet/train/good/107.png\n",
            "carpet/train/good/108.png\n",
            "carpet/train/good/109.png\n",
            "carpet/train/good/110.png\n",
            "carpet/train/good/111.png\n",
            "carpet/train/good/112.png\n",
            "carpet/train/good/113.png\n",
            "carpet/train/good/114.png\n",
            "carpet/train/good/115.png\n",
            "carpet/train/good/116.png\n",
            "carpet/train/good/117.png\n",
            "carpet/train/good/118.png\n",
            "carpet/train/good/119.png\n",
            "carpet/train/good/120.png\n",
            "carpet/train/good/121.png\n",
            "carpet/train/good/122.png\n",
            "carpet/train/good/123.png\n",
            "carpet/train/good/124.png\n",
            "carpet/train/good/125.png\n",
            "carpet/train/good/126.png\n",
            "carpet/train/good/127.png\n",
            "carpet/train/good/128.png\n",
            "carpet/train/good/129.png\n",
            "carpet/train/good/265.png\n",
            "carpet/train/good/031.png\n",
            "carpet/readme.txt\n",
            "carpet/license.txt\n"
          ]
        }
      ]
    },
    {
      "cell_type": "code",
      "source": [
        "import os, glob\n",
        "import tensorflow as tf\n",
        "from tensorflow.keras import layers, models\n",
        "# 이거 폴더 안의 모든 거에 대한 경로가 다 담겨져있음 리스트형태로\n",
        "\n",
        "# ground_truth 파일 경로\n",
        "# data_dir_ground_color = glob.glob(\"/content/carpet/ground_truth/color/*\")\n",
        "# data_dir_ground_cut = glob.glob(\"/content/carpet/ground_truth/cut/*\")\n",
        "# data_dir_ground_hole = glob.glob(\"/content/carpet/ground_truth/hole/*\")\n",
        "# data_dir_ground_metal_contam = glob.glob(\"/content/carpet/ground_truth/metal_contamination/*\")\n",
        "# data_dir_ground_thread = glob.glob(\"/content/carpet/ground_truth/thread/*\")\n",
        "\n",
        "# test 파일 경로\n",
        "data_dir_test_color = glob.glob(\"/content/carpet/test/color/*\")\n",
        "data_dir_test_cut = glob.glob(\"/content/carpet/test/cut/*\")\n",
        "data_dir_test_good = glob.glob(\"/content/carpet/test/good/*\")\n",
        "data_dir_test_hole = glob.glob(\"/content/carpet/test/hole/*\")\n",
        "data_dir_test_metal_contam = glob.glob(\"/content/carpet/test/metal_contamination/*\")\n",
        "data_dir_test_thread = glob.glob(\"/content/carpet/test/thread/*\")\n",
        "\n",
        "# train 파일 경로\n",
        "data_dir_train_good = glob.glob(\"/content/carpet/train/good/*\")"
      ],
      "metadata": {
        "id": "3doNKwWKqQh8"
      },
      "execution_count": 5,
      "outputs": []
    },
    {
      "cell_type": "code",
      "source": [
        "# from PIL import Image\n",
        "# # 1. resize\n",
        "# # 2. type( RGB로)\n",
        "# # 3. 픽셀값 0~1 (생성쪽 -1 ~ 1)\n",
        "# # 4. numpy\n",
        "# x = []\n",
        "# y = []\n",
        "# # for file_path in malaysia_data_dir:\n",
        "# #     img = Image.open(file_path)\n",
        "# #     # 리사이즈\n",
        "# #     # 타입\n",
        "# #     # 픽셀\n",
        "# #     # numpy\n",
        "# #     y.append(i)"
      ],
      "metadata": {
        "id": "IdZouFfjq6Wf"
      },
      "execution_count": null,
      "outputs": []
    },
    {
      "cell_type": "code",
      "source": [
        "from PIL import Image\n",
        "img = Image.open(data_dir_test_color[12])\n",
        "img\n",
        "import numpy as np\n",
        "np_image = np.array(img)\n",
        "np_image.shape"
      ],
      "metadata": {
        "colab": {
          "base_uri": "https://localhost:8080/"
        },
        "id": "Q3M4-dUEudP3",
        "outputId": "dda79b84-9b0f-4d49-90a4-40d94ed2a3dd"
      },
      "execution_count": 6,
      "outputs": [
        {
          "output_type": "execute_result",
          "data": {
            "text/plain": [
              "(1024, 1024, 3)"
            ]
          },
          "metadata": {},
          "execution_count": 6
        }
      ]
    },
    {
      "cell_type": "code",
      "source": [
        "from PIL import Image\n",
        "import numpy as np\n",
        "\n",
        "# 이미지 사이즈 확인\n",
        "\n",
        "# Combine all the file paths in a list\n",
        "file_paths_test = data_dir_test_color + data_dir_test_cut + data_dir_test_good + data_dir_test_hole + data_dir_test_metal_contam + data_dir_test_thread\n",
        "file_paths_train = data_dir_train_good\n",
        "\n",
        "# # Iterate over each file path\n",
        "# for file_path in file_paths_test:\n",
        "#     # Open the image using PIL\n",
        "#     img = Image.open(file_path)\n",
        "\n",
        "#     # Convert the image to a NumPy array\n",
        "#     np_image = np.array(img)\n",
        "\n",
        "#     # Check the shape of the image\n",
        "#     if np_image.shape != (1024, 1024, 3):\n",
        "#         print(f\"Image '{file_path}' has a different shape.\")\n",
        "\n",
        "# # test, train 폴더에 있는 모든 이미지는 numpy array 로 변환했을시 (1024, 1024, 3) 이 됨\n",
        "\n"
      ],
      "metadata": {
        "id": "xQOHj1FRq7f6"
      },
      "execution_count": 7,
      "outputs": []
    },
    {
      "cell_type": "code",
      "source": [
        "# 라벨링 작업 실시\n",
        "\n",
        "test_image_list = []\n",
        "train_image_list = []\n",
        "\n",
        "list_file_path_test = [data_dir_test_color, data_dir_test_cut, data_dir_test_good,data_dir_test_hole,data_dir_test_metal_contam,data_dir_test_thread ]\n",
        "\n",
        "\n",
        "# for file_path in list_file_path_test:\n",
        "#   for image in file_path:\n",
        "#     # Open the image using PIL\n",
        "#     img = Image.open(image)\n",
        "\n",
        "#     # Convert the image to a NumPy array\n",
        "#     np_image = np.array(img)\n",
        "\n",
        "#     test_image_list.append(np_image)\n",
        "\n",
        "for image in data_dir_train_good:\n",
        "    # Open the image using PIL\n",
        "    img = Image.open(image)\n",
        "\n",
        "    # Convert the image to a NumPy array\n",
        "    np_image = np.array(img)\n",
        "\n",
        "    train_image_list.append(np_image)\n"
      ],
      "metadata": {
        "id": "u6rA2KDYw0T2"
      },
      "execution_count": 8,
      "outputs": []
    },
    {
      "cell_type": "code",
      "source": [
        "# 편의성을 위해 쪼개서 진행하자\n",
        "test_color_image_list = []\n",
        "test_cut_image_list = []\n",
        "test_good_image_list =[]\n",
        "test_hole_image_list = []\n",
        "test_metal_contam_image_list = []\n",
        "test_thread_image_list = []\n",
        "\n",
        "\n",
        "\n",
        "from PIL import Image\n",
        "import numpy as np\n",
        "\n",
        "list_file_path_test = [data_dir_test_color, data_dir_test_cut, data_dir_test_good, data_dir_test_hole, data_dir_test_metal_contam, data_dir_test_thread]\n",
        "all_list_for_test = [test_color_image_list, test_cut_image_list, test_good_image_list, test_hole_image_list, test_metal_contam_image_list, test_thread_image_list]\n",
        "\n",
        "# Iterate over each class-specific list and file path list\n",
        "for class_list, file_paths in zip(all_list_for_test, list_file_path_test):\n",
        "    # Iterate over each file path in the current class\n",
        "    for file_path in file_paths:\n",
        "        # Open the image using PIL\n",
        "        img = Image.open(file_path)\n",
        "\n",
        "        # Convert the image to a NumPy array\n",
        "        np_image = np.array(img)\n",
        "\n",
        "        # Append the NumPy array to the current class-specific list\n",
        "        class_list.append(np_image)\n",
        "\n"
      ],
      "metadata": {
        "id": "X03dsphV28qA"
      },
      "execution_count": 9,
      "outputs": []
    },
    {
      "cell_type": "code",
      "source": [
        "test_cut_image_list"
      ],
      "metadata": {
        "id": "xDxUc1lE00Jk"
      },
      "execution_count": null,
      "outputs": []
    },
    {
      "cell_type": "code",
      "source": [
        "# 각가의 dataframe 만들기\n",
        "import pandas as pd\n",
        "\n",
        "# Create the dataframe\n",
        "df_test_color = pd.DataFrame({\n",
        "    'image': test_color_image_list,\n",
        "    'target': [1] * len(test_color_image_list)\n",
        "})\n",
        "\n",
        "df_test_cut = pd.DataFrame({\n",
        "    'image': test_cut_image_list,\n",
        "    'target': [2] * len(test_cut_image_list)\n",
        "})\n",
        "\n",
        "df_test_hole = pd.DataFrame({\n",
        "    'image': test_hole_image_list,\n",
        "    'target': [3] * len(test_hole_image_list)\n",
        "})\n",
        "\n",
        "df_test_metal_contam = pd.DataFrame({\n",
        "    'image': test_metal_contam_image_list,\n",
        "    'target': [4] * len(test_metal_contam_image_list)\n",
        "})\n",
        "\n",
        "df_test_thread = pd.DataFrame({\n",
        "    'image': test_thread_image_list,\n",
        "    'target': [5] * len(test_thread_image_list)\n",
        "})\n",
        "\n",
        "df_test_good = pd.DataFrame({\n",
        "    'image': test_good_image_list,\n",
        "    'target': [0] * len(test_good_image_list)\n",
        "})\n",
        "\n",
        "df_train_good = pd.DataFrame({\n",
        "    'image': train_image_list,\n",
        "    'target': [0] * len(train_image_list)\n",
        "})"
      ],
      "metadata": {
        "id": "MTODQQwb2RlN"
      },
      "execution_count": 10,
      "outputs": []
    },
    {
      "cell_type": "code",
      "source": [
        "combined_df = pd.concat([df_test_color,df_test_cut, df_test_hole, df_test_metal_contam, df_test_thread, df_test_good, df_train_good ], ignore_index=True)\n",
        "combined_df\n",
        "df = combined_df"
      ],
      "metadata": {
        "id": "os7usfugEfzC"
      },
      "execution_count": 11,
      "outputs": []
    },
    {
      "cell_type": "code",
      "source": [
        "df['target'].value_counts()"
      ],
      "metadata": {
        "colab": {
          "base_uri": "https://localhost:8080/"
        },
        "id": "5SXlO5qqF8K7",
        "outputId": "1ea96c90-c5f0-4875-f6a3-0982fc650e29"
      },
      "execution_count": null,
      "outputs": [
        {
          "output_type": "execute_result",
          "data": {
            "text/plain": [
              "0    308\n",
              "1     19\n",
              "5     19\n",
              "2     17\n",
              "3     17\n",
              "4     17\n",
              "Name: target, dtype: int64"
            ]
          },
          "metadata": {},
          "execution_count": 12
        }
      ]
    },
    {
      "cell_type": "code",
      "source": [
        "type(df['image'][0])"
      ],
      "metadata": {
        "colab": {
          "base_uri": "https://localhost:8080/"
        },
        "id": "6pRbiZ6nTAsw",
        "outputId": "332fb24f-5988-47a5-ee4d-cd90f03432d2"
      },
      "execution_count": null,
      "outputs": [
        {
          "output_type": "execute_result",
          "data": {
            "text/plain": [
              "numpy.ndarray"
            ]
          },
          "metadata": {},
          "execution_count": 13
        }
      ]
    },
    {
      "cell_type": "code",
      "source": [
        "# # Save the dataframe to a CSV file\n",
        "# df.to_csv('/content/mvtec_carpet_final_df.csv', index=False)\n",
        "# import shutil\n",
        "# shutil.move('/content/mvtec_carpet_final_df.csv', '/content/drive/MyDrive/')"
      ],
      "metadata": {
        "id": "2BtFY4rlHJ_m"
      },
      "execution_count": null,
      "outputs": []
    },
    {
      "cell_type": "code",
      "source": [
        "df['image'][0].shape"
      ],
      "metadata": {
        "colab": {
          "base_uri": "https://localhost:8080/"
        },
        "id": "ZoHHy6KlHpeg",
        "outputId": "88395877-2b98-48e9-d580-41ccf77846a5"
      },
      "execution_count": null,
      "outputs": [
        {
          "output_type": "execute_result",
          "data": {
            "text/plain": [
              "(1024, 1024, 3)"
            ]
          },
          "metadata": {},
          "execution_count": 15
        }
      ]
    },
    {
      "cell_type": "code",
      "source": [
        "df['image'] = df['image'] / 255.0\n"
      ],
      "metadata": {
        "id": "epNigxBUOmFw"
      },
      "execution_count": 12,
      "outputs": []
    },
    {
      "cell_type": "code",
      "source": [
        "from sklearn.model_selection import train_test_split\n",
        "\n",
        "# Split the data into training and testing sets\n",
        "X_train, X_test, y_train, y_test = train_test_split(df['image'], df['target'], test_size=0.2, stratify=df['target'])\n",
        "\n"
      ],
      "metadata": {
        "id": "kMvMdkGAO8XM"
      },
      "execution_count": 13,
      "outputs": []
    },
    {
      "cell_type": "code",
      "source": [
        "X_train[0].shape"
      ],
      "metadata": {
        "colab": {
          "base_uri": "https://localhost:8080/"
        },
        "id": "ega2tDHNU8k1",
        "outputId": "6c1b16ba-d9b0-477d-b059-588890d4a1ee"
      },
      "execution_count": null,
      "outputs": [
        {
          "output_type": "execute_result",
          "data": {
            "text/plain": [
              "(1024, 1024, 3)"
            ]
          },
          "metadata": {},
          "execution_count": 18
        }
      ]
    },
    {
      "cell_type": "code",
      "source": [
        "## 모델 쌓기\n",
        "\n",
        "\n",
        "# CNN 모델 생성\n",
        "model = models.Sequential()\n",
        "\n",
        "# 첫 번째 Convolutional Layer, 1024x1024 input size, 32 filters, 3x3 filter size\n",
        "model.add(layers.Conv2D(32, (3, 3), activation='relu', input_shape=(1024,1024, 3),padding='same'))\n",
        "model.add(layers.MaxPooling2D((3, 3), padding='same'))\n",
        "\n",
        "# 두 번째 Convolutional Layer, 64 filters, 3x3 filter size\n",
        "model.add(layers.Conv2D(64, (3, 3), activation='relu',padding='same'))\n",
        "model.add(layers.MaxPooling2D((2, 2)))\n",
        "# 두 번째 Convolutional Layer, 64 filters, 3x3 filter size\n",
        "model.add(layers.Conv2D(64, (3, 3), activation='relu',padding='same'))\n",
        "model.add(layers.Conv2D(64, (3, 3), activation='relu',padding='same'))\n",
        "model.add(layers.Conv2D(64, (3, 3), activation='relu',padding='same'))\n",
        "model.add(layers.Conv2D(64, (3, 3), activation='relu',padding='same'))\n",
        "\n",
        "# 세 번째 Convolutional Layer, 64 filters, 3x3 filter size\n",
        "model.add(layers.Conv2D(64, (3, 3), activation='relu'))\n",
        "\n",
        "# Fully Connected Layer로 변환\n",
        "model.add(layers.Flatten())\n",
        "model.add(layers.Dense(64, activation='relu'))\n",
        "\n",
        "# Output Layer, 10개의 클래스로 분류\n",
        "model.add(layers.Dense(6, activation='softmax'))\n",
        "\n",
        "# 모델 컴파일\n",
        "model.compile(optimizer='adam',\n",
        "              loss=tf.keras.losses.SparseCategoricalCrossentropy(from_logits=True),\n",
        "              metrics=['accuracy'])\n",
        "model.summary()"
      ],
      "metadata": {
        "id": "76S8F3ElUDjV"
      },
      "execution_count": null,
      "outputs": []
    },
    {
      "cell_type": "code",
      "source": [],
      "metadata": {
        "id": "RKS1S-zOVNDr"
      },
      "execution_count": null,
      "outputs": []
    }
  ]
}